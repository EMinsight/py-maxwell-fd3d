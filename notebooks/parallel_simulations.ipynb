{
 "cells": [
  {
   "cell_type": "markdown",
   "metadata": {},
   "source": [
    "## Parallel simulations using mpi4py"
   ]
  },
  {
   "cell_type": "code",
   "execution_count": 1,
   "metadata": {},
   "outputs": [],
   "source": [
    "import os,sys\n",
    "Nthread = 1\n",
    "os.environ[\"OMP_NUM_THREADS\"] = str(Nthread) # export OMP_NUM_THREADS=1\n",
    "os.environ[\"OPENBLAS_NUM_THREADS\"] = str(Nthread) # export OPENBLAS_NUM_THREADS=1\n",
    "os.environ[\"MKL_NUM_THREADS\"] = str(Nthread) # export MKL_NUM_THREADS=1\n",
    "os.environ[\"VECLIB_MAXIMUM_THREADS\"] = str(Nthread) # export VECLIB_MAXIMUM_THREADS=1\n",
    "os.environ[\"NUMEXPR_NUM_THREADS\"] = str(Nthread) # export NUMEXPR_NUM_THREADS=1\n"
   ]
  },
  {
   "cell_type": "code",
   "execution_count": 2,
   "metadata": {},
   "outputs": [
    {
     "ename": "ModuleNotFoundError",
     "evalue": "No module named 'palik_silicon'",
     "output_type": "error",
     "traceback": [
      "\u001b[0;31m---------------------------------------------------------------------------\u001b[0m",
      "\u001b[0;31mModuleNotFoundError\u001b[0m                       Traceback (most recent call last)",
      "\u001b[0;32m<ipython-input-2-8337fb8a115a>\u001b[0m in \u001b[0;36m<module>\u001b[0;34m\u001b[0m\n\u001b[0;32m----> 1\u001b[0;31m \u001b[0;32mfrom\u001b[0m \u001b[0mpalik_silicon\u001b[0m \u001b[0;32mimport\u001b[0m \u001b[0msilicon\u001b[0m\u001b[0;34m\u001b[0m\u001b[0;34m\u001b[0m\u001b[0m\n\u001b[0m\u001b[1;32m      2\u001b[0m \u001b[0;32mfrom\u001b[0m \u001b[0mPhotodetector\u001b[0m \u001b[0;32mimport\u001b[0m \u001b[0;34m*\u001b[0m\u001b[0;34m\u001b[0m\u001b[0;34m\u001b[0m\u001b[0m\n\u001b[1;32m      3\u001b[0m \u001b[0;34m\u001b[0m\u001b[0m\n\u001b[1;32m      4\u001b[0m \u001b[0;32mimport\u001b[0m \u001b[0mautograd\u001b[0m\u001b[0;34m.\u001b[0m\u001b[0mnumpy\u001b[0m \u001b[0;32mas\u001b[0m \u001b[0mnp\u001b[0m\u001b[0;34m\u001b[0m\u001b[0;34m\u001b[0m\u001b[0m\n\u001b[1;32m      5\u001b[0m \u001b[0;32mfrom\u001b[0m \u001b[0mautograd\u001b[0m \u001b[0;32mimport\u001b[0m \u001b[0mgrad\u001b[0m\u001b[0;34m\u001b[0m\u001b[0;34m\u001b[0m\u001b[0m\n",
      "\u001b[0;31mModuleNotFoundError\u001b[0m: No module named 'palik_silicon'"
     ]
    }
   ],
   "source": [
    "\n",
    "from palik_silicon import silicon\n",
    "from Photodetector import *\n",
    "\n",
    "import autograd.numpy as np\n",
    "from autograd import grad\n",
    "\n",
    "import nlopt\n",
    "import numpy as npf\n",
    "from mpi4py import MPI\n",
    "\n",
    "# import use_autograd\n",
    "# use_autograd.use = 1\n",
    "import rcwa\n",
    "import materials, cons\n",
    "from mpi_nlopt import nlopt_opt,b_filter,f_symmetry\n",
    "from fft_funs import get_conv\n",
    "import pickle\n",
    "comm = MPI.COMM_WORLD\n",
    "size = comm.Get_size()\n",
    "rank = comm.Get_rank()\n",
    "\n",
    "\n",
    "def fun_mpi(dof,fun,N):\n",
    "    '''mpi parallization for fun(dof,ctrl), ctrl is the numbering of ctrl's frequency calculation\n",
    "    N calculations in total\n",
    "    returns the sum: sum_{ctrl=1 toN} fun(dof,ctrl)\n",
    "    '''\n",
    "    dof = comm.bcast(dof)\n",
    "\n",
    "    Nloop = int(np.ceil(1.0*N/size)) # number of calculations for each node\n",
    "    val_i=[]\n",
    "    g_i=[]\n",
    "    val=[]\n",
    "    g=[]\n",
    "\n",
    "    for i in range(0,Nloop):\n",
    "        ctrl = i*size+rank\n",
    "        #print(ctrl)\n",
    "\n",
    "        if(ctrl < N):\n",
    "            color,wvlen, wvlen_index = wavelengths_tuple[ctrl];\n",
    "            funi = lambda dof: fun(dof,wvlen,theta,phi, color, wvlen_index)\n",
    "            grad_fun = grad(funi)\n",
    "\n",
    "            val = funi(dof)\n",
    "            gval = grad_fun(dof)\n",
    "\n",
    "            # include indexing for now, in case one is interested\n",
    "            val_i.append([ctrl,val])\n",
    "            g_i.append([ctrl,gval])\n",
    "\n",
    "    # gather the solution\n",
    "    val_i = comm.gather(val_i)\n",
    "    g_i = comm.gather(g_i)\n",
    "\n",
    "    # summation\n",
    "    if rank == 0:\n",
    "        val_i = [x for x in val_i if x]\n",
    "        g_i = [x for x in g_i if x]\n",
    "        val_i = npf.concatenate(npf.array(val_i))\n",
    "        g_i = npf.concatenate(npf.array(g_i))\n",
    "        # sindex = val_i[:,0].argsort()\n",
    "\n",
    "        val = np.sum(val_i[:,1])\n",
    "        g = np.sum(g_i[:,1])\n",
    "\n",
    "\n",
    "    val = comm.bcast(val)\n",
    "    g = comm.bcast(g)\n",
    "    return val,g\n",
    "\n",
    "\n"
   ]
  },
  {
   "cell_type": "code",
   "execution_count": null,
   "metadata": {},
   "outputs": [],
   "source": []
  }
 ],
 "metadata": {
  "kernelspec": {
   "display_name": "Python 3",
   "language": "python",
   "name": "python3"
  },
  "language_info": {
   "codemirror_mode": {
    "name": "ipython",
    "version": 3
   },
   "file_extension": ".py",
   "mimetype": "text/x-python",
   "name": "python",
   "nbconvert_exporter": "python",
   "pygments_lexer": "ipython3",
   "version": "3.8.5"
  }
 },
 "nbformat": 4,
 "nbformat_minor": 4
}
