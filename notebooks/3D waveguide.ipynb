{
 "cells": [
  {
   "cell_type": "code",
   "execution_count": 1,
   "metadata": {},
   "outputs": [],
   "source": [
    "import os\n",
    "os.environ[\"OMP_NUM_THREADS\"] = '32'\n",
    "import numpy as np\n",
    "import scipy.sparse as sp\n",
    "import matplotlib.pyplot as plt\n",
    "import math\n",
    "import sys\n",
    "sys.path.append('../')\n",
    "from pyfd3d import pyfd3d\n",
    "from pyMKL import pardisoSolver\n",
    "import pyfd3d.fd3d as fd3d\n",
    "from scipy.sparse.linalg import qmr, bicgstab"
   ]
  },
  {
   "cell_type": "code",
   "execution_count": 2,
   "metadata": {},
   "outputs": [],
   "source": [
    "Nz = 210\n",
    "Npml = np.array([10,10,0])"
   ]
  },
  {
   "cell_type": "code",
   "execution_count": 3,
   "metadata": {},
   "outputs": [
    {
     "data": {
      "text/plain": [
       "<matplotlib.image.AxesImage at 0x7f7b80765760>"
      ]
     },
     "execution_count": 3,
     "metadata": {},
     "output_type": "execute_result"
    },
    {
     "data": {
      "image/png": "[encoded data removed]",
      "text/plain": [
       "<Figure size 432x288 with 1 Axes>"
      ]
     },
     "metadata": {
      "needs_background": "light"
     },
     "output_type": "display_data"
    }
   ],
   "source": [
    "L0 = 1e-6\n",
    "## specify slab plane\n",
    "xrange = yrange = np.array([-0.5,0.5])\n",
    "zrange = [-1,1];\n",
    "radius = 0.25\n",
    "Nx = Ny = 101\n",
    "\n",
    "x = np.linspace(xrange[0], xrange[1], Nx)\n",
    "y = np.linspace(yrange[0], yrange[1], Ny)\n",
    "z = np.linspace(zrange[0], zrange[1], Nz)\n",
    "xx,yy = np.meshgrid(x,y)\n",
    "\n",
    "slab_plane = 1*np.ones((Nx,Ny))\n",
    "\n",
    "slab_plane[xx**2+yy**2<radius**2] = 4\n",
    "plt.imshow(slab_plane)"
   ]
  },
  {
   "cell_type": "code",
   "execution_count": 4,
   "metadata": {},
   "outputs": [],
   "source": [
    "## integrate slab structure into 3D grid\n",
    "eps_r = np.ones((Nx,Ny,Nz))\n",
    "N = [Nx,Ny,Nz]"
   ]
  },
  {
   "cell_type": "code",
   "execution_count": 5,
   "metadata": {},
   "outputs": [
    {
     "name": "stdout",
     "output_type": "stream",
     "text": [
      "(101, 101, 210)\n"
     ]
    }
   ],
   "source": [
    "print(eps_r.shape)\n",
    "for k in range(0,Nz):\n",
    "    eps_r[:,:,k] = slab_plane"
   ]
  },
  {
   "cell_type": "markdown",
   "metadata": {},
   "source": [
    "## Modal Source"
   ]
  },
  {
   "cell_type": "markdown",
   "metadata": {},
   "source": [
    "How do we get the modal source? Should we do a TE, TM polarization? Yes\n",
    "\n",
    "For now, we can test with a point source..."
   ]
  },
  {
   "cell_type": "code",
   "execution_count": null,
   "metadata": {},
   "outputs": [],
   "source": []
  },
  {
   "cell_type": "code",
   "execution_count": 6,
   "metadata": {},
   "outputs": [],
   "source": [
    "Jz = np.zeros(N); \n",
    "Jy = np.zeros(N);\n",
    "Jx = np.zeros(N);\n",
    "\n",
    "Jx[Nx//2,Ny//2,15] = 1;\n",
    "Jy[Nx//2,Ny//2,15] = 1\n",
    "eps_r_tensor_dict = {\n",
    "    'eps_xx': eps_r,\n",
    "    'eps_yy': eps_r.copy(),\n",
    "    'eps_zz': eps_r.copy(),\n",
    "}\n",
    "JCurrentVector = {\n",
    "    'Jx': Jx,\n",
    "    'Jy': Jy,\n",
    "    'Jz': Jz\n",
    "}\n"
   ]
  },
  {
   "cell_type": "code",
   "execution_count": 7,
   "metadata": {},
   "outputs": [
    {
     "name": "stdout",
     "output_type": "stream",
     "text": [
      "1e-06 [-0.5  0.5] [-0.5  0.5] [-1, 1]\n",
      "(6426630,)\n"
     ]
    }
   ],
   "source": [
    "wvlen = 0.51;\n",
    "print(L0, xrange, yrange, zrange)\n",
    "\n",
    "A,b, Ch = fd3d.curlcurlE(L0, \n",
    "                         wvlen, \n",
    "                         xrange, \n",
    "                         yrange, \n",
    "                         zrange, \n",
    "                         eps_r_tensor_dict, \n",
    "                         JCurrentVector,Npml, \n",
    "                         s = -1\n",
    "                        )"
   ]
  },
  {
   "cell_type": "markdown",
   "metadata": {},
   "source": [
    "## Notes\n",
    "1. hmmm, seems like bicg-stab fails on this system?"
   ]
  },
  {
   "cell_type": "code",
   "execution_count": 8,
   "metadata": {},
   "outputs": [],
   "source": [
    "## ilu preconditioner?\n",
    "from scipy.sparse.linalg import spilu\n"
   ]
  },
  {
   "cell_type": "code",
   "execution_count": null,
   "metadata": {},
   "outputs": [],
   "source": [
    "%%time\n",
    "x, info = bicgstab(A,b, maxiter = 1000);\n",
    "print(info)"
   ]
  },
  {
   "cell_type": "code",
   "execution_count": null,
   "metadata": {},
   "outputs": [],
   "source": []
  },
  {
   "cell_type": "code",
   "execution_count": null,
   "metadata": {},
   "outputs": [],
   "source": [
    "print(info) #system did not converge?"
   ]
  },
  {
   "cell_type": "code",
   "execution_count": null,
   "metadata": {},
   "outputs": [],
   "source": [
    "y = Ch@x\n",
    "print(y.shape, A.shape)"
   ]
  },
  {
   "cell_type": "code",
   "execution_count": null,
   "metadata": {},
   "outputs": [],
   "source": [
    "M = np.prod(N);\n",
    "Ex = x[0:M].reshape(N, order = 'F');\n",
    "Ey = x[M:2*M].reshape(N, order = 'F')\n",
    "Ez = x[2*M:].reshape(N, order = 'F')\n",
    "\n",
    "Hx =  y[0:M].reshape(N, order = 'F')\n",
    "Hy =  y[M:2*M].reshape(N, order = 'F')\n",
    "Hz =  y[2*M:].reshape(N, order = 'F')\n"
   ]
  },
  {
   "cell_type": "code",
   "execution_count": null,
   "metadata": {},
   "outputs": [],
   "source": [
    "for i in range(0,N[0],2):\n",
    "    plt.figure()\n",
    "    #plt.imshow(np.abs(Ex[:,i,:]), cmap = 'hot')\n",
    "    plt.imshow(np.real(Ex[:,i,:]), cmap = 'RdBu')\n",
    "\n",
    "    plt.clim(-0.5e-2,0.5e-2)\n",
    "    plt.colorbar()\n",
    "    "
   ]
  },
  {
   "cell_type": "code",
   "execution_count": null,
   "metadata": {},
   "outputs": [],
   "source": [
    "for i in range(0,N[-1],2):\n",
    "    plt.figure()\n",
    "    plt.imshow(np.real(Ez[:,:,i]), cmap = 'RdBu')\n",
    "    #plt.clim(0,0.5e-2)\n",
    "    plt.colorbar()"
   ]
  },
  {
   "cell_type": "code",
   "execution_count": null,
   "metadata": {},
   "outputs": [],
   "source": [
    "print('error norm: ',np.linalg.norm(A@x-b)/np.linalg.norm(b))\n",
    "print('error norm should be small, ideally close to precision')\n",
    "plt.plot(np.abs(A@x))\n",
    "plt.plot(np.abs(b))\n",
    "# plt.figure()\n",
    "# plt.plot(np.log10(np.abs(A@x)))\n",
    "# plt.plot(np.log10(np.abs(b)))\n"
   ]
  },
  {
   "cell_type": "code",
   "execution_count": null,
   "metadata": {},
   "outputs": [],
   "source": [
    "print(np.allclose(A@x, b))"
   ]
  },
  {
   "cell_type": "code",
   "execution_count": null,
   "metadata": {},
   "outputs": [],
   "source": [
    "plt.plot(np.abs(np.log10(x)), '.', markersize = 0.1)"
   ]
  },
  {
   "cell_type": "code",
   "execution_count": null,
   "metadata": {},
   "outputs": [],
   "source": []
  },
  {
   "cell_type": "code",
   "execution_count": null,
   "metadata": {},
   "outputs": [],
   "source": [
    "\n",
    "from plotly.offline import init_notebook_mode, iplot, plot\n",
    "import plotly as py\n",
    "init_notebook_mode(connected=True)\n",
    "import plotly.graph_objs as go\n",
    "from plotly.graph_objs import *\n",
    "\n",
    "def get_the_slice(x,y,z, surfacecolor):\n",
    "    return go.Surface(x=x,\n",
    "                      y=y,\n",
    "                      z=z,\n",
    "                      surfacecolor=surfacecolor,\n",
    "                      coloraxis='coloraxis')\n",
    "def get_lims_colors(surfacecolor):# color limits for a slice\n",
    "    return np.min(surfacecolor), np.max(surfacecolor)\n",
    "\n",
    "Nx,Ny,Nz = N\n",
    "camera = dict(\n",
    "    up=dict(x=0, y=0, z=1),\n",
    "    center=dict(x=0, y=0, z=0),\n",
    "    eye=dict(x=2, y=2, z=1)\n",
    ")\n",
    "\n",
    "x = np.linspace(xrange[0], xrange[1], Nx)\n",
    "y = np.linspace(yrange[0], yrange[1], Ny)\n",
    "z = np.linspace(zrange[1], zrange[0], Nz)\n",
    "\n",
    "yy,zz, = np.meshgrid(y,z, indexing = 'ij');\n",
    "xx = x[25] * np.ones(yy.shape)\n",
    "\n",
    "surfcolor_y = (np.abs(Ex[25,:,:]))\n",
    "surfcolor_z = (np.abs(Ex[:,25,:]))\n",
    "surfcolor_x = (np.abs(Ex[:,:,60]))\n",
    "\n",
    "slice_y = get_the_slice(xx,yy,zz, surfcolor_y)\n",
    "slice_y.update(cmin=0, cmax=0.2e-2)\n",
    "\n",
    "\n",
    "xx,zz, = np.meshgrid(y,z, indexing = 'ij');\n",
    "yy = y[25] * np.ones(yy.shape)\n",
    "slice_z = get_the_slice(xx,yy,zz, surfcolor_z)\n",
    "slice_z.update(cmin=0, cmax=0.2e-2)\n",
    "\n",
    "\n",
    "xx,yy, = np.meshgrid(x,y, indexing = 'ij');\n",
    "zz = z[60] * np.ones(zz.shape)\n",
    "slice_x = get_the_slice(xx,yy,zz, surfcolor_x)\n",
    "slice_x.update(cmin=0, cmax=0.2e-2)\n",
    "\n",
    "\n",
    "axis = dict(gridcolor=\"white\",\n",
    "            showbackground=False,\n",
    "            linecolor=\"black\",\n",
    "            mirror = True, \n",
    "            showline = True)\n",
    "\n",
    "layout = go.Layout(\n",
    "         width=700,\n",
    "         height=700,\n",
    "         scene=dict(yaxis=axis,\n",
    "                    xaxis=dict(axis, range = xrange),\n",
    "                    zaxis=dict(axis, range = zrange),\n",
    "                    aspectratio=dict(x=1, y=1, z=2)\n",
    "                    ),\n",
    "         scene_camera = camera,\n",
    "        )\n",
    "fig_data = [slice_y, slice_z, slice_x]\n",
    "\n",
    "fig = go.Figure(data=fig_data, layout=layout)\n",
    "fig.update_coloraxes(colorscale='Hot')\n",
    "fig.write_image('../img/phc_slab_slices.png')\n",
    "fig.show();"
   ]
  },
  {
   "cell_type": "code",
   "execution_count": null,
   "metadata": {},
   "outputs": [],
   "source": []
  }
 ],
 "metadata": {
  "kernelspec": {
   "display_name": "Python 3 (ipykernel)",
   "language": "python",
   "name": "python3"
  },
  "language_info": {
   "codemirror_mode": {
    "name": "ipython",
    "version": 3
   },
   "file_extension": ".py",
   "mimetype": "text/x-python",
   "name": "python",
   "nbconvert_exporter": "python",
   "pygments_lexer": "ipython3",
   "version": "3.8.5"
  }
 },
 "nbformat": 4,
 "nbformat_minor": 4
}
