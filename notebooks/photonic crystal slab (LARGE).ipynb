{
 "cells": [
  {
   "cell_type": "code",
   "execution_count": 1,
   "metadata": {},
   "outputs": [],
   "source": [
    "import os\n",
    "os.environ[\"OMP_NUM_THREADS\"] = '32'\n",
    "import numpy as np\n",
    "import scipy.sparse as sp\n",
    "import matplotlib.pyplot as plt\n",
    "import math\n",
    "import sys\n",
    "sys.path.append('../')\n",
    "from pyfd3d import pyfd3d\n",
    "from pyMKL import pardisoSolver\n",
    "import pyfd3d.fd3d as fd3d\n",
    "from scipy.sparse.linalg import qmr, bicgstab, lgmres, gcrotmk"
   ]
  },
  {
   "cell_type": "code",
   "execution_count": 2,
   "metadata": {},
   "outputs": [],
   "source": [
    "Nz = 210\n",
    "Npml = np.array([0,0,15])"
   ]
  },
  {
   "cell_type": "code",
   "execution_count": 3,
   "metadata": {},
   "outputs": [
    {
     "data": {
      "text/plain": [
       "<matplotlib.image.AxesImage at 0x7f7a085ad730>"
      ]
     },
     "execution_count": 3,
     "metadata": {},
     "output_type": "execute_result"
    },
    {
     "data": {
      "image/png": "[encoded data removed]",
      "text/plain": [
       "<Figure size 432x288 with 1 Axes>"
      ]
     },
     "metadata": {
      "needs_background": "light"
     },
     "output_type": "display_data"
    }
   ],
   "source": [
    "L0 = 1e-6\n",
    "## specify slab plane\n",
    "xrange = yrange = np.array([-0.5,0.5])\n",
    "zrange = [-1,1];\n",
    "radius = 0.25\n",
    "Nx = Ny = 100\n",
    "\n",
    "x = np.linspace(xrange[0], xrange[1], Nx)\n",
    "y = np.linspace(yrange[0], yrange[1], Ny)\n",
    "z = np.linspace(zrange[0], zrange[1], Nz)\n",
    "xx,yy = np.meshgrid(x,y)\n",
    "\n",
    "slab_plane = 4*np.ones((Nx,Ny))\n",
    "\n",
    "slab_plane[xx**2+yy**2<radius**2] = 1\n",
    "plt.imshow(slab_plane)"
   ]
  },
  {
   "cell_type": "code",
   "execution_count": 4,
   "metadata": {},
   "outputs": [],
   "source": [
    "## integrate slab structure into 3D grid\n",
    "eps_r = np.ones((Nx,Ny,Nz))\n",
    "N = [Nx,Ny,Nz]"
   ]
  },
  {
   "cell_type": "code",
   "execution_count": 5,
   "metadata": {},
   "outputs": [
    {
     "name": "stdout",
     "output_type": "stream",
     "text": [
      "(100, 100, 210)\n"
     ]
    }
   ],
   "source": [
    "print(eps_r.shape)\n",
    "for k in range(100,150):\n",
    "    eps_r[:,:,k] = slab_plane"
   ]
  },
  {
   "cell_type": "code",
   "execution_count": 6,
   "metadata": {},
   "outputs": [],
   "source": [
    "Jz = np.zeros(N); \n",
    "Jy = np.zeros(N);\n",
    "Jx = np.zeros(N);\n",
    "Jx[:,:,35] = 1;\n",
    "Jy[:,:,35] = 1\n",
    "eps_r_tensor_dict = {\n",
    "    'eps_xx': eps_r,\n",
    "    'eps_yy': eps_r.copy(),\n",
    "    'eps_zz': eps_r.copy(),\n",
    "}\n",
    "JCurrentVector = {\n",
    "    'Jx': Jx,\n",
    "    'Jy': Jy,\n",
    "    'Jz': Jz\n",
    "}\n"
   ]
  },
  {
   "cell_type": "code",
   "execution_count": 7,
   "metadata": {},
   "outputs": [
    {
     "name": "stdout",
     "output_type": "stream",
     "text": [
      "1e-06 [-0.5  0.5] [-0.5  0.5] [-1, 1]\n",
      "(6300000,)\n"
     ]
    }
   ],
   "source": [
    "wvlen = 0.51;\n",
    "print(L0, xrange, yrange, zrange)\n",
    "\n",
    "A,b, Ch = fd3d.curlcurlE(L0, \n",
    "                         wvlen, \n",
    "                         xrange, \n",
    "                         yrange, \n",
    "                         zrange, \n",
    "                         eps_r_tensor_dict, \n",
    "                         JCurrentVector,Npml, \n",
    "                         s = -1\n",
    "                        )"
   ]
  },
  {
   "cell_type": "markdown",
   "metadata": {},
   "source": [
    "## Notes\n",
    "1. hmmm, seems like bicg-stab fails on this system?"
   ]
  },
  {
   "cell_type": "code",
   "execution_count": 8,
   "metadata": {},
   "outputs": [],
   "source": [
    "## ilu preconditioner?\n",
    "from scipy.sparse.linalg import spilu\n"
   ]
  },
  {
   "cell_type": "code",
   "execution_count": null,
   "metadata": {},
   "outputs": [
    {
     "name": "stderr",
     "output_type": "stream",
     "text": [
      "<timed exec>:1: DeprecationWarning: scipy.sparse.linalg.gcrotmk called without specifying `atol`. The default value will change in the future. To preserve current behavior, set ``atol=tol``.\n"
     ]
    }
   ],
   "source": [
    "%%time\n",
    "x, info = gcrotmk(A,b, maxiter = 2000, atol = 1e-3);\n",
    "print(info)"
   ]
  },
  {
   "cell_type": "code",
   "execution_count": null,
   "metadata": {},
   "outputs": [],
   "source": []
  },
  {
   "cell_type": "code",
   "execution_count": null,
   "metadata": {},
   "outputs": [],
   "source": [
    "print(info) #system did not converge?"
   ]
  },
  {
   "cell_type": "code",
   "execution_count": null,
   "metadata": {},
   "outputs": [],
   "source": [
    "y = Ch@x\n",
    "print(y.shape, A.shape)"
   ]
  },
  {
   "cell_type": "code",
   "execution_count": null,
   "metadata": {},
   "outputs": [],
   "source": [
    "M = np.prod(N);\n",
    "Ex = x[0:M].reshape(N, order = 'F');\n",
    "Ey = x[M:2*M].reshape(N, order = 'F')\n",
    "Ez = x[2*M:].reshape(N, order = 'F')\n",
    "\n",
    "Hx =  y[0:M].reshape(N, order = 'F')\n",
    "Hy =  y[M:2*M].reshape(N, order = 'F')\n",
    "Hz =  y[2*M:].reshape(N, order = 'F')\n"
   ]
  },
  {
   "cell_type": "code",
   "execution_count": null,
   "metadata": {},
   "outputs": [],
   "source": [
    "for i in range(0,N[0],2):\n",
    "    plt.figure()\n",
    "    #plt.imshow(np.abs(Ex[:,i,:]), cmap = 'hot')\n",
    "    plt.imshow(np.real(Ex[:,i,:]), cmap = 'RdBu')\n",
    "\n",
    "    #plt.clim(0,0.5e-2)\n",
    "    plt.colorbar()\n",
    "    "
   ]
  },
  {
   "cell_type": "code",
   "execution_count": null,
   "metadata": {},
   "outputs": [],
   "source": [
    "for i in range(0,N[-1],5):\n",
    "    plt.figure()\n",
    "    plt.imshow(np.real(Ex[:,:,i]), cmap = 'RdBu')\n",
    "    plt.clim(-0.5, 0.5)\n",
    "    plt.colorbar()"
   ]
  },
  {
   "cell_type": "code",
   "execution_count": null,
   "metadata": {},
   "outputs": [],
   "source": [
    "print('error norm: ',np.linalg.norm(A@x-b)/np.linalg.norm(b))\n",
    "print('error norm should be small, ideally close to precision')\n",
    "plt.plot(np.abs(A@x))\n",
    "plt.plot(np.abs(b))\n",
    "plt.legend(('solution','actual'))\n",
    "\n"
   ]
  },
  {
   "cell_type": "code",
   "execution_count": null,
   "metadata": {},
   "outputs": [],
   "source": [
    "print(np.allclose(A@x, b))"
   ]
  },
  {
   "cell_type": "code",
   "execution_count": null,
   "metadata": {},
   "outputs": [],
   "source": [
    "plt.plot(np.abs(x))"
   ]
  },
  {
   "cell_type": "code",
   "execution_count": null,
   "metadata": {},
   "outputs": [],
   "source": []
  },
  {
   "cell_type": "code",
   "execution_count": null,
   "metadata": {},
   "outputs": [],
   "source": []
  }
 ],
 "metadata": {
  "kernelspec": {
   "display_name": "Python 3 (ipykernel)",
   "language": "python",
   "name": "python3"
  },
  "language_info": {
   "codemirror_mode": {
    "name": "ipython",
    "version": 3
   },
   "file_extension": ".py",
   "mimetype": "text/x-python",
   "name": "python",
   "nbconvert_exporter": "python",
   "pygments_lexer": "ipython3",
   "version": "3.8.5"
  }
 },
 "nbformat": 4,
 "nbformat_minor": 4
}
