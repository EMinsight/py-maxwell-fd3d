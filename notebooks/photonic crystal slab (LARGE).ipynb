{
 "cells": [
  {
   "cell_type": "code",
   "execution_count": 1,
   "metadata": {},
   "outputs": [],
   "source": [
    "import os\n",
    "os.environ[\"OMP_NUM_THREADS\"] = '32'\n",
    "import numpy as np\n",
    "import scipy.sparse as sp\n",
    "import matplotlib.pyplot as plt\n",
    "import math\n",
    "import sys\n",
    "sys.path.append('../')\n",
    "from pyfd3d import pyfd3d\n",
    "from pyMKL import pardisoSolver\n",
    "import pyfd3d.fd3d as fd3d\n",
    "from scipy.sparse.linalg import qmr, bicgstab"
   ]
  },
  {
   "cell_type": "code",
   "execution_count": 9,
   "metadata": {},
   "outputs": [],
   "source": [
    "Nz = 100\n",
    "Npml = np.array([0,0,10])"
   ]
  },
  {
   "cell_type": "code",
   "execution_count": 8,
   "metadata": {},
   "outputs": [
    {
     "data": {
      "text/plain": [
       "<matplotlib.image.AxesImage at 0x7fe6a8c01670>"
      ]
     },
     "execution_count": 8,
     "metadata": {},
     "output_type": "execute_result"
    },
    {
     "data": {
      "image/png": "[encoded data removed]",
      "text/plain": [
       "<Figure size 432x288 with 1 Axes>"
      ]
     },
     "metadata": {
      "needs_background": "light"
     },
     "output_type": "display_data"
    }
   ],
   "source": [
    "## specify slab plane\n",
    "xrange = yrange = np.array([-0.5, 0.5])\n",
    "radius = 0.25\n",
    "Nx = Ny = 50\n",
    "\n",
    "x = np.linspace(xrange[0], xrange[1], Nx)\n",
    "y = np.linspace(yrange[0], yrange[1], Ny)\n",
    "\n",
    "xx,yy = np.meshgrid(x,y)\n",
    "\n",
    "slab_plane = 9*np.ones((Nx,Ny))\n",
    "\n",
    "slab_plane[xx**2+yy**2<radius**2] = 1\n",
    "plt.imshow(slab_plane)"
   ]
  },
  {
   "cell_type": "code",
   "execution_count": 10,
   "metadata": {},
   "outputs": [],
   "source": [
    "## integrate slab structure into 3D grid\n",
    "eps_r = np.ones((Nx,Ny,Nz))"
   ]
  },
  {
   "cell_type": "code",
   "execution_count": null,
   "metadata": {},
   "outputs": [],
   "source": []
  }
 ],
 "metadata": {
  "kernelspec": {
   "display_name": "Python 3",
   "language": "python",
   "name": "python3"
  },
  "language_info": {
   "codemirror_mode": {
    "name": "ipython",
    "version": 3
   },
   "file_extension": ".py",
   "mimetype": "text/x-python",
   "name": "python",
   "nbconvert_exporter": "python",
   "pygments_lexer": "ipython3",
   "version": "3.8.5"
  }
 },
 "nbformat": 4,
 "nbformat_minor": 4
}
