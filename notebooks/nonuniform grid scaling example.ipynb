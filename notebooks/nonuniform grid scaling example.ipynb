{
 "cells": [
  {
   "cell_type": "code",
   "execution_count": 1,
   "metadata": {},
   "outputs": [],
   "source": [
    "import numpy as np\n",
    "import scipy.sparse as sp\n",
    "import matplotlib.pyplot as plt\n",
    "import sys\n",
    "sys.path.append('../')\n",
    "from pyfd3d.nonuniform_grid import *"
   ]
  },
  {
   "cell_type": "code",
   "execution_count": 2,
   "metadata": {},
   "outputs": [],
   "source": [
    "#need to specify a corase region, a fine region and an intermediate region"
   ]
  },
  {
   "cell_type": "code",
   "execution_count": 18,
   "metadata": {},
   "outputs": [
    {
     "name": "stdout",
     "output_type": "stream",
     "text": [
      "[[ 50  50  50]\n",
      " [ 50  50  50]\n",
      " [100 100 100]\n",
      " [ 50  50  50]\n",
      " [ 50  50  50]] [50, 50, 50]\n"
     ]
    }
   ],
   "source": [
    "Nfine = [100,100,100]; #specify nx, ny for each region\n",
    "Ncoarse = [50,50,50];\n",
    "Ntran =   [50,50,50]; # 2) specify the dx and dy of each region\n",
    "dx1 = 0.02; dy1 = 0.02;\n",
    "dx2 = 0.005; dy2 = 0.005;\n",
    "dz1 = 0.02\n",
    "dz2 = 0.005\n",
    "dfine = [dx2, dy2, dz2];\n",
    "dcoarse = [dx1, dy1, dz1];\n",
    "\n",
    "#stack the vectors\n",
    "# drt does not have a value...\n",
    "Nft = np.vstack((Ncoarse, Ntran, Nfine, Ntran, Ncoarse));\n",
    "drt = np.vstack((dcoarse, dtran, dfine, dtran, dcoarse));\n",
    "\n",
    "print(Nft, Ncoarse)"
   ]
  },
  {
   "cell_type": "code",
   "execution_count": 19,
   "metadata": {},
   "outputs": [
    {
     "data": {
      "text/plain": [
       "[<matplotlib.lines.Line2D at 0x7fb038403e80>]"
      ]
     },
     "execution_count": 19,
     "metadata": {},
     "output_type": "execute_result"
    },
    {
     "data": {
      "image/png": "[encoded data removed]",
      "text/plain": [
       "<Figure size 432x288 with 1 Axes>"
      ]
     },
     "metadata": {
      "needs_background": "light"
     },
     "output_type": "display_data"
    },
    {
     "data": {
      "image/png": "[encoded data removed]",
      "text/plain": [
       "<Figure size 432x288 with 1 Axes>"
      ]
     },
     "metadata": {
      "needs_background": "light"
     },
     "output_type": "display_data"
    }
   ],
   "source": [
    "dr_reference  = dcoarse;\n",
    "[dx_scale, dy_scale, dz_scale] = generate_nonuniform_scaling(Nft, drt/dr_reference);\n",
    "\n",
    "\n",
    "plt.plot(dx_scale)\n",
    "plt.plot(dy_scale)\n",
    "plt.plot(dz_scale)\n",
    "[DX, DY, DZ] = np.meshgrid(dx_scale, dy_scale, dz_scale, indexing = 'ij')\n",
    "plt.figure()\n",
    "plt.plot(DZ.flatten())\n"
   ]
  },
  {
   "cell_type": "code",
   "execution_count": 20,
   "metadata": {},
   "outputs": [],
   "source": [
    "dx_scale, dy_scale, dz_scale = generate_nonuniform_scaling(\n",
    "    Nft, \n",
    "    drt, \n",
    ")"
   ]
  },
  {
   "cell_type": "code",
   "execution_count": 22,
   "metadata": {},
   "outputs": [],
   "source": [
    "out = non_uniform_scaling_operator(dx_scale, dy_scale, dz_scale)"
   ]
  },
  {
   "cell_type": "code",
   "execution_count": 23,
   "metadata": {},
   "outputs": [
    {
     "data": {
      "text/plain": [
       "(27000000, 27000000)"
      ]
     },
     "execution_count": 23,
     "metadata": {},
     "output_type": "execute_result"
    }
   ],
   "source": []
  },
  {
   "cell_type": "code",
   "execution_count": null,
   "metadata": {},
   "outputs": [],
   "source": []
  }
 ],
 "metadata": {
  "kernelspec": {
   "display_name": "Python 3",
   "language": "python",
   "name": "python3"
  },
  "language_info": {
   "codemirror_mode": {
    "name": "ipython",
    "version": 3
   },
   "file_extension": ".py",
   "mimetype": "text/x-python",
   "name": "python",
   "nbconvert_exporter": "python",
   "pygments_lexer": "ipython3",
   "version": "3.8.5"
  }
 },
 "nbformat": 4,
 "nbformat_minor": 4
}
