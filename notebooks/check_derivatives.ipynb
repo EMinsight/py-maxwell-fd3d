{
 "cells": [
  {
   "cell_type": "code",
   "execution_count": 10,
   "metadata": {},
   "outputs": [],
   "source": [
    "import numpy as np\n",
    "import scipy.sparse as sp\n",
    "import matplotlib.pyplot as plt"
   ]
  },
  {
   "cell_type": "code",
   "execution_count": 8,
   "metadata": {},
   "outputs": [],
   "source": [
    "def createDws(w, f, dL, N):\n",
    "    '''\n",
    "        s = 'x' or 'y': x derivative or y derivative\n",
    "        f = 'b' or 'f'\n",
    "        catches exceptions if s and f are misspecified\n",
    "    '''\n",
    "    M = np.prod(N);\n",
    "  \n",
    "\n",
    "    sign = 1 if f == 'f' else -1;\n",
    "    dw = None; #just an initialization\n",
    "    indices = np.reshape(np.arange(M), N, order = 'F');\n",
    "    if(w == 'x'):\n",
    "        ind_adj = np.roll(indices, -sign, axis = 0)\n",
    "        dw = dL[0]\n",
    "    elif(w == 'y'):\n",
    "        ind_adj = np.roll(indices, -sign, axis = 1)\n",
    "        dw = dL[1];\n",
    "    elif(w == 'z'):\n",
    "        ind_adj = np.roll(indices, -sign, axis = 2)\n",
    "        dw = dL[-1]\n",
    "        \n",
    "    # we could use flatten here since the indices are already in 'F' order\n",
    "    indices_flatten = np.reshape(indices, (M, ), order = 'F')\n",
    "    indices_adj_flatten = np.reshape(ind_adj, (M, ), order = 'F')\n",
    "    # on_inds = np.hstack((indices.flatten(), indices.flatten()))\n",
    "    # off_inds = np.concatenate((indices.flatten(), ind_adj.flatten()), axis = 0);\n",
    "    on_inds = np.hstack((indices_flatten, indices_flatten));\n",
    "    off_inds = np.concatenate((indices_flatten, indices_adj_flatten), axis = 0);\n",
    "\n",
    "    all_inds = np.concatenate((np.expand_dims(on_inds, axis =1 ), np.expand_dims(off_inds, axis = 1)), axis = 1)\n",
    "\n",
    "    data = np.concatenate((-sign*np.ones((M)), sign*np.ones((M))), axis = 0)\n",
    "    Dws = sp.csc_matrix((data, (all_inds[:,0], all_inds[:,1])), shape = (M,M));\n",
    "\n",
    "    return (1/dw)*Dws;"
   ]
  },
  {
   "cell_type": "code",
   "execution_count": 15,
   "metadata": {},
   "outputs": [],
   "source": [
    "dzf = createDws('y','f',[1,1,1],[10,10,10])"
   ]
  },
  {
   "cell_type": "code",
   "execution_count": null,
   "metadata": {},
   "outputs": [],
   "source": []
  },
  {
   "cell_type": "code",
   "execution_count": null,
   "metadata": {},
   "outputs": [],
   "source": []
  }
 ],
 "metadata": {
  "kernelspec": {
   "display_name": "Python 3",
   "language": "python",
   "name": "python3"
  },
  "language_info": {
   "codemirror_mode": {
    "name": "ipython",
    "version": 3
   },
   "file_extension": ".py",
   "mimetype": "text/x-python",
   "name": "python",
   "nbconvert_exporter": "python",
   "pygments_lexer": "ipython3",
   "version": "3.8.5"
  }
 },
 "nbformat": 4,
 "nbformat_minor": 4
}
