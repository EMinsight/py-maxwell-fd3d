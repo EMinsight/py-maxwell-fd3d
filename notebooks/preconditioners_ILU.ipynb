{
 "cells": [
  {
   "cell_type": "markdown",
   "metadata": {},
   "source": [
    "## Use photonic crystal slab as test-bed\n",
    "Thus far, the photonic crystal slab seems like the worst case for convergence.\n",
    "Based on my experiments, the ilu preconditioner doesn't seem to work great for 3D FDFD...most likely the sparsity imposed on the ilu is simply too great for the incomplete factorization to capture anything meaningful\n",
    "\n",
    "## Notes\n",
    "1. ilu factorization for matrices this size seems prohibitive...\n",
    "\n",
    "Problematically, the ilu factorization can only be applied by doing back-substitution...which I guess is not ideal...\n",
    "though I wonder if there's a better way\n",
    "\n",
    "2. Modified ilu using only diagonal blocks (based on a paper, \"An efficient ilu preconditioning for highly sparse matrices constructed using FDFD method\"...also doesn't seem as great as it promises, but at the same time, it's not easy to implement exactly using scipy's infrastructure...\n",
    "\n",
    "3. Actually switching solvers to scipy's lgmres seems to improve a lot, but lgmres is a lot slower than bicgstab or qmr"
   ]
  },
  {
   "cell_type": "code",
   "execution_count": 1,
   "metadata": {},
   "outputs": [],
   "source": [
    "import os\n",
    "os.environ[\"OMP_NUM_THREADS\"] = '32'\n",
    "import numpy as np\n",
    "import scipy.sparse as sp\n",
    "import matplotlib.pyplot as plt\n",
    "import math\n",
    "import sys\n",
    "sys.path.append('../')\n",
    "from pyfd3d import pyfd3d\n",
    "from pyMKL import pardisoSolver\n",
    "import pyfd3d.fd3d as fd3d\n",
    "from scipy.sparse.linalg import qmr, bicgstab, gmres, lgmres, gcrotmk"
   ]
  },
  {
   "cell_type": "code",
   "execution_count": 2,
   "metadata": {},
   "outputs": [],
   "source": [
    "Nz = 111\n",
    "Npml = np.array([0,0,10])"
   ]
  },
  {
   "cell_type": "code",
   "execution_count": 3,
   "metadata": {},
   "outputs": [
    {
     "data": {
      "text/plain": [
       "<matplotlib.image.AxesImage at 0x7fee280ab730>"
      ]
     },
     "execution_count": 3,
     "metadata": {},
     "output_type": "execute_result"
    },
    {
     "data": {
      "image/png": "[encoded data removed]",
      "text/plain": [
       "<Figure size 432x288 with 1 Axes>"
      ]
     },
     "metadata": {
      "needs_background": "light"
     },
     "output_type": "display_data"
    }
   ],
   "source": [
    "L0 = 1e-6\n",
    "## specify slab plane\n",
    "xrange = yrange = np.array([-0.5,0.5])\n",
    "zrange = [-1,1];\n",
    "radius = 0.25\n",
    "Nx = Ny = 55\n",
    "\n",
    "x = np.linspace(xrange[0], xrange[1], Nx)\n",
    "y = np.linspace(yrange[0], yrange[1], Ny)\n",
    "z = np.linspace(zrange[0], zrange[1], Nz)\n",
    "xx,yy = np.meshgrid(x,y)\n",
    "\n",
    "slab_plane = 4*np.ones((Nx,Ny))\n",
    "\n",
    "slab_plane[xx**2+yy**2<radius**2] = 1\n",
    "\n",
    "## artificial averaging?\n",
    "slab_plane = (slab_plane+np.roll(slab_plane, shift= 1, axis = 1))/2\n",
    "slab_plane = (slab_plane+np.roll(slab_plane, shift= 1, axis = 0))/2\n",
    "slab_plane = (slab_plane+np.roll(slab_plane, shift= -1, axis = 1))/2\n",
    "slab_plane = (slab_plane+np.roll(slab_plane, shift= -1, axis = 0))/2\n",
    "plt.imshow(slab_plane)"
   ]
  },
  {
   "cell_type": "code",
   "execution_count": 4,
   "metadata": {},
   "outputs": [],
   "source": [
    "## integrate slab structure into 3D grid\n",
    "eps_r = np.ones((Nx,Ny,Nz))\n",
    "N = [Nx,Ny,Nz]"
   ]
  },
  {
   "cell_type": "code",
   "execution_count": 5,
   "metadata": {},
   "outputs": [
    {
     "name": "stdout",
     "output_type": "stream",
     "text": [
      "(55, 55, 111)\n"
     ]
    }
   ],
   "source": [
    "print(eps_r.shape)\n",
    "for k in range(50,80):\n",
    "    eps_r[:,:,k] = slab_plane"
   ]
  },
  {
   "cell_type": "code",
   "execution_count": 6,
   "metadata": {},
   "outputs": [],
   "source": [
    "Jz = np.zeros(N); \n",
    "Jy = np.zeros(N);\n",
    "Jx = np.zeros(N);\n",
    "Jx[:,:,15] = 1;\n",
    "Jy[:,:,15] = 1\n",
    "eps_r_tensor_dict = {\n",
    "    'eps_xx': eps_r,\n",
    "    'eps_yy': eps_r.copy(),\n",
    "    'eps_zz': eps_r.copy(),\n",
    "}\n",
    "JCurrentVector = {\n",
    "    'Jx': Jx,\n",
    "    'Jy': Jy,\n",
    "    'Jz': Jz\n",
    "}\n"
   ]
  },
  {
   "cell_type": "code",
   "execution_count": 7,
   "metadata": {},
   "outputs": [
    {
     "name": "stdout",
     "output_type": "stream",
     "text": [
      "1e-06 [-0.5  0.5] [-0.5  0.5] [-1, 1]\n",
      "(1007325,)\n"
     ]
    }
   ],
   "source": [
    "wvlen = 0.51;\n",
    "print(L0, xrange, yrange, zrange)\n",
    "\n",
    "A,b, Ch = fd3d.curlcurlE(L0, \n",
    "                         wvlen, \n",
    "                         xrange, \n",
    "                         yrange, \n",
    "                         zrange, \n",
    "                         eps_r_tensor_dict, \n",
    "                         JCurrentVector,Npml, \n",
    "                         s = -1\n",
    "                        )"
   ]
  },
  {
   "cell_type": "markdown",
   "metadata": {},
   "source": []
  },
  {
   "cell_type": "code",
   "execution_count": 8,
   "metadata": {},
   "outputs": [
    {
     "name": "stdout",
     "output_type": "stream",
     "text": [
      "CPU times: user 43 µs, sys: 2 µs, total: 45 µs\n",
      "Wall time: 28.8 µs\n"
     ]
    }
   ],
   "source": [
    "%%time\n",
    "## ilu preconditioner, this is already relatively slow to form\n",
    "from scipy.sparse.linalg import LinearOperator, spilu\n",
    "# ilu = spilu(A, fill_factor = 2.0) #fill_factor 1 uses same sparsity as A\n",
    "# Mx = lambda x: ilu.solve(x)\n",
    "#M = LinearOperator((3*Nx*Ny*Nz, 3*Nx*Ny*Nz), Mx)"
   ]
  },
  {
   "cell_type": "code",
   "execution_count": 9,
   "metadata": {},
   "outputs": [
    {
     "name": "stdout",
     "output_type": "stream",
     "text": [
      "(335775, 335775) (335775, 335775) (335775, 335775)\n"
     ]
    },
    {
     "name": "stderr",
     "output_type": "stream",
     "text": [
      "/Users/nathanzhao/opt/anaconda3/lib/python3.8/site-packages/scipy/sparse/linalg/dsolve/linsolve.py:407: SparseEfficiencyWarning: splu requires CSC matrix format\n",
      "  warn('splu requires CSC matrix format', SparseEfficiencyWarning)\n"
     ]
    },
    {
     "name": "stdout",
     "output_type": "stream",
     "text": [
      "done x\n",
      "done y\n",
      "done all\n",
      "CPU times: user 57.6 s, sys: 1.3 s, total: 58.9 s\n",
      "Wall time: 58.8 s\n"
     ]
    }
   ],
   "source": [
    "%%time\n",
    "Axx = A[0:Nx*Ny*Nz, 0:Nx*Ny*Nz]\n",
    "Ayy =  A[Nx*Ny*Nz:2*Nx*Ny*Nz, Nx*Ny*Nz:2*Nx*Ny*Nz]\n",
    "Azz =  A[2*Nx*Ny*Nz:, 2*Nx*Ny*Nz:]\n",
    "print(Axx.shape, Ayy.shape, Azz.shape)\n",
    "\n",
    "## seperately ilu each block\n",
    "ilux = spilu(Axx, fill_factor = 1.0) #fill_factor 1 uses same sparsity as A\n",
    "print('done x')\n",
    "iluy = spilu(Ayy, fill_factor = 1.0) #fill_factor 1 uses same sparsity as A\n",
    "print('done y')\n",
    "iluz = spilu(Azz, fill_factor = 1.0) #fill_factor 1 uses same sparsity as A\n",
    "print('done all')"
   ]
  },
  {
   "cell_type": "code",
   "execution_count": 10,
   "metadata": {},
   "outputs": [
    {
     "name": "stdout",
     "output_type": "stream",
     "text": [
      "['L', 'U', '__class__', '__delattr__', '__dir__', '__doc__', '__eq__', '__format__', '__ge__', '__getattribute__', '__gt__', '__hash__', '__init__', '__init_subclass__', '__le__', '__lt__', '__ne__', '__new__', '__reduce__', '__reduce_ex__', '__repr__', '__setattr__', '__sizeof__', '__str__', '__subclasshook__', 'nnz', 'perm_c', 'perm_r', 'shape', 'solve']\n",
      "CPU times: user 237 ms, sys: 43.2 ms, total: 280 ms\n",
      "Wall time: 279 ms\n"
     ]
    }
   ],
   "source": [
    "%%time\n",
    "from scipy.sparse.linalg import spsolve_triangular\n",
    "print(dir(ilux))\n",
    "Lx, Ux, pcx, prx = ilux.L, ilux.U, ilux.perm_c, ilux.perm_r\n",
    "Ly, Uy, pcy, pry = iluy.L, iluy.U, iluy.perm_c, iluy.perm_r\n",
    "Lz, Uz, pcz, prz = iluz.L, iluz.U, iluz.perm_c, iluz.perm_r\n",
    "\n",
    "m = Nx*Ny*Nz\n",
    "Pcx, Prx = sp.csc_matrix((np.ones(m), (prx, np.arange(m)))),sp.csc_matrix((np.ones(m), (np.arange(m), pcx)))\n",
    "Pcy, Pry = sp.csc_matrix((np.ones(m), (pry, np.arange(m)))),sp.csc_matrix((np.ones(m), (np.arange(m), pcy)))\n",
    "Pcz, Prz = sp.csc_matrix((np.ones(m), (prz, np.arange(m)))),sp.csc_matrix((np.ones(m), (np.arange(m), pcz)))"
   ]
  },
  {
   "cell_type": "code",
   "execution_count": null,
   "metadata": {},
   "outputs": [],
   "source": []
  },
  {
   "cell_type": "code",
   "execution_count": 11,
   "metadata": {},
   "outputs": [
    {
     "data": {
      "text/plain": [
       "<matplotlib.lines.Line2D at 0x7fedc0c58f10>"
      ]
     },
     "execution_count": 11,
     "metadata": {},
     "output_type": "execute_result"
    },
    {
     "data": {
      "image/png": "[encoded data removed]",
      "text/plain": [
       "<Figure size 720x720 with 1 Axes>"
      ]
     },
     "metadata": {
      "needs_background": "light"
     },
     "output_type": "display_data"
    }
   ],
   "source": [
    "#create bloc diagonal factors\n",
    "Lblock = sp.block_diag((Lx, Ly, Lz))\n",
    "Ublock = sp.block_diag((Ux, Uy, Uz))\n",
    "#     lsolve = spsolve_triangular(Lblock, x, lower = True)\n",
    "#     usolve = spsolve_triangular(Ublock, lsolve, lower = False)\n",
    "Pcblock = sp.block_diag((Pcx, Pcy, Pcz))\n",
    "Prblock = sp.block_diag((Prx, Pry, Prz))\n",
    "\n",
    "Ablock = Prblock*(Lblock@Ublock)*Pcblock\n",
    "plt.figure(figsize = (10,10))\n",
    "plt.spy(Ablock, markersize = 0.4)\n",
    "\n",
    "\n"
   ]
  },
  {
   "cell_type": "code",
   "execution_count": 12,
   "metadata": {},
   "outputs": [],
   "source": [
    "# %%time\n",
    "# Ablock = sp.block_diag((Axx, Ayy, Azz))\n",
    "\n",
    "# ## convert to csc format for spilu\n",
    "# Ablock = sp.csc_matrix(Ablock)\n",
    "# ilub = spilu(Ablock, fill_factor = 5.0)\n",
    "\n",
    "# def block_ilu_solve(x):\n",
    "#     return ilub.solve(x)\n"
   ]
  },
  {
   "cell_type": "code",
   "execution_count": null,
   "metadata": {},
   "outputs": [],
   "source": []
  },
  {
   "cell_type": "code",
   "execution_count": 13,
   "metadata": {},
   "outputs": [],
   "source": [
    "# plt.figure() #check  iluB is block diagonal\n",
    "# plt.spy(ilub.L, markersize = 0.1)\n",
    "# print(ilub.L.count_nonzero())"
   ]
  },
  {
   "cell_type": "code",
   "execution_count": 14,
   "metadata": {},
   "outputs": [],
   "source": [
    "# %%time\n",
    "# #test\n",
    "# block_ilu_solve(b)"
   ]
  },
  {
   "cell_type": "code",
   "execution_count": 15,
   "metadata": {},
   "outputs": [],
   "source": [
    "# %%time\n",
    "# ilu.solve(b)"
   ]
  },
  {
   "cell_type": "code",
   "execution_count": 16,
   "metadata": {},
   "outputs": [],
   "source": [
    "# ## construct backsub operator\n",
    "# Mop = LinearOperator((3*Nx*Ny*Nz, 3*Nx*Ny*Nz), block_ilu_solve)"
   ]
  },
  {
   "cell_type": "code",
   "execution_count": 17,
   "metadata": {},
   "outputs": [],
   "source": [
    "#preserved_x = x;"
   ]
  },
  {
   "cell_type": "code",
   "execution_count": null,
   "metadata": {},
   "outputs": [],
   "source": [
    "%%time\n",
    "#x, info = lgmres(A,b, x0 = x,maxiter = 10, atol = 1e-3) \n",
    "x, info = gcrotmk(A,b,maxiter = 2000, atol = 1e-3)\n",
    "print(info)"
   ]
  },
  {
   "cell_type": "code",
   "execution_count": null,
   "metadata": {},
   "outputs": [],
   "source": []
  },
  {
   "cell_type": "code",
   "execution_count": null,
   "metadata": {},
   "outputs": [],
   "source": [
    "print(info) #system did not converge if info is not 0... <0 is the worse because it means iteration broke..."
   ]
  },
  {
   "cell_type": "code",
   "execution_count": null,
   "metadata": {},
   "outputs": [],
   "source": [
    "y = Ch@x\n",
    "print(y.shape, A.shape)"
   ]
  },
  {
   "cell_type": "code",
   "execution_count": null,
   "metadata": {},
   "outputs": [],
   "source": [
    "print('error norm: ',np.linalg.norm(A@x-b)/np.linalg.norm(b))\n",
    "print(np.linalg.norm(b), np.linalg.norm(A@x))\n",
    "print('error norm should be small, ideally close to precision')\n",
    "plt.plot(np.abs(A@x))\n",
    "plt.plot(np.abs(b))\n",
    "\n"
   ]
  },
  {
   "cell_type": "code",
   "execution_count": null,
   "metadata": {},
   "outputs": [],
   "source": [
    "M = np.prod(N);\n",
    "Ex = x[0:M].reshape(N, order = 'F');\n",
    "Ey = x[M:2*M].reshape(N, order = 'F')\n",
    "Ez = x[2*M:].reshape(N, order = 'F')\n",
    "\n",
    "Hx =  y[0:M].reshape(N, order = 'F')\n",
    "Hy =  y[M:2*M].reshape(N, order = 'F')\n",
    "Hz =  y[2*M:].reshape(N, order = 'F')\n"
   ]
  },
  {
   "cell_type": "code",
   "execution_count": null,
   "metadata": {},
   "outputs": [],
   "source": [
    "plt.figure();\n",
    "plt.imshow(eps_r[:,25,:])\n",
    "for i in range(0,N[0],2):\n",
    "    plt.figure()\n",
    "    plt.imshow(np.abs(Ey[:,i,:]), cmap = 'hot')\n",
    "    #plt.imshow(np.real(Ey[:,i,:]), cmap = 'RdBu')\n",
    "\n",
    "    #plt.clim(-4,4)\n",
    "    plt.colorbar()\n",
    "    "
   ]
  },
  {
   "cell_type": "code",
   "execution_count": null,
   "metadata": {},
   "outputs": [],
   "source": [
    "for i in range(0,N[-1],2):\n",
    "    plt.figure()\n",
    "    plt.imshow(np.real(Ex[:,:,i]), cmap = 'RdBu')\n",
    "    #plt.clim(0,0.5e-2)\n",
    "    plt.colorbar()"
   ]
  },
  {
   "cell_type": "code",
   "execution_count": null,
   "metadata": {},
   "outputs": [],
   "source": []
  },
  {
   "cell_type": "code",
   "execution_count": null,
   "metadata": {},
   "outputs": [],
   "source": [
    "print(np.allclose(A@x, b))"
   ]
  },
  {
   "cell_type": "code",
   "execution_count": null,
   "metadata": {},
   "outputs": [],
   "source": [
    "plt.plot(np.abs(x))"
   ]
  },
  {
   "cell_type": "code",
   "execution_count": null,
   "metadata": {},
   "outputs": [],
   "source": []
  },
  {
   "cell_type": "code",
   "execution_count": null,
   "metadata": {},
   "outputs": [],
   "source": []
  },
  {
   "cell_type": "code",
   "execution_count": null,
   "metadata": {},
   "outputs": [],
   "source": []
  }
 ],
 "metadata": {
  "kernelspec": {
   "display_name": "Python 3 (ipykernel)",
   "language": "python",
   "name": "python3"
  },
  "language_info": {
   "codemirror_mode": {
    "name": "ipython",
    "version": 3
   },
   "file_extension": ".py",
   "mimetype": "text/x-python",
   "name": "python",
   "nbconvert_exporter": "python",
   "pygments_lexer": "ipython3",
   "version": "3.8.5"
  }
 },
 "nbformat": 4,
 "nbformat_minor": 4
}
